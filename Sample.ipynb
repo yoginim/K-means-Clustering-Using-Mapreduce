{
 "cells": [
  {
   "cell_type": "code",
   "execution_count": 6,
   "metadata": {},
   "outputs": [],
   "source": [
    "import random\n",
    "import math\n",
    "import numpy as np\n",
    "import argparse\n",
    "import string\n",
    "import os"
   ]
  },
  {
   "cell_type": "code",
   "execution_count": 7,
   "metadata": {},
   "outputs": [],
   "source": [
    "import sys\n",
    "sys.argv=['']\n",
    "del sys"
   ]
  },
  {
   "cell_type": "code",
   "execution_count": 28,
   "metadata": {},
   "outputs": [],
   "source": [
    "directory=\"Datasets-05\"\n",
    "parent_dir=\"C:/Users/Dell/Assgn2/\"\n",
    "path=os.path.join(parent_dir,directory)\n",
    "os.mkdir(path) "
   ]
  },
  {
   "cell_type": "code",
   "execution_count": 30,
   "metadata": {},
   "outputs": [],
   "source": [
    "def parse_args():\n",
    "    '''Parse command line arguments'''\n",
    "    parser = argparse.ArgumentParser(description=\"Run data sampling\")\n",
    "    \n",
    "    parser.add_argument('--input', nargs='?', default='letter-recognition.data',help='Input File path')\n",
    "    parser.add_argument('--output', nargs='?', default='Datasets-05',help='Output Directory path')\n",
    "    parser.add_argument('--size', type=float, default=5,help='Training size in percentage. Default is 5')\n",
    "    \n",
    "    return parser.parse_args()\n",
    "\n",
    "\n",
    "def sample_data(args):\n",
    "    data_points = dict()\n",
    "\n",
    "    fp = open(args.input,'r')\n",
    "\n",
    "    for i,line in enumerate(fp):\n",
    "        try:\n",
    "            data_points[line[0]].append(line)\n",
    "        except Exception as e:\n",
    "            data_points[line[0]] = []\n",
    "            data_points[line[0]].append(line)\n",
    "\n",
    "    fp.close()\n",
    "\n",
    "\n",
    "    alphabets = string.ascii_uppercase[:26]\n",
    "    \n",
    "    wp = open(args.output + '/centroids.txt','w')\n",
    "    trp = open(args.output + '/train.txt','w')\n",
    "    tep = open(args.output + '/test.txt','w')\n",
    "\n",
    "#     split train and test dataset\n",
    "    for key in data_points.keys():\n",
    "#        wp.write(random.choice(data_points[key]))\n",
    "        dict_length = len(data_points[key])\n",
    "        to_sample = math.floor(dict_length*(args.size/100))\n",
    "        rand_nums = [random.randint(0, dict_length) for i in range(to_sample)]\n",
    "\n",
    "        # get centroid of this cluster\n",
    "        wp.write(data_points[key][rand_nums[0]])\n",
    "\n",
    "        for j,data in enumerate(data_points[key]):\n",
    "            if j in rand_nums:\n",
    "                trp.write(data)\n",
    "            else:\n",
    "                tep.write(data)\n",
    "\n",
    "    wp.close()\n",
    "    tep.close()\n",
    "    trp.close()"
   ]
  },
  {
   "cell_type": "code",
   "execution_count": 31,
   "metadata": {},
   "outputs": [],
   "source": [
    "if __name__ == \"__main__\":\n",
    "    args = parse_args()\n",
    "    sample_data(args)"
   ]
  },
  {
   "cell_type": "code",
   "execution_count": null,
   "metadata": {},
   "outputs": [],
   "source": []
  }
 ],
 "metadata": {
  "kernelspec": {
   "display_name": "Python 3",
   "language": "python",
   "name": "python3"
  },
  "language_info": {
   "codemirror_mode": {
    "name": "ipython",
    "version": 3
   },
   "file_extension": ".py",
   "mimetype": "text/x-python",
   "name": "python",
   "nbconvert_exporter": "python",
   "pygments_lexer": "ipython3",
   "version": "3.8.5"
  }
 },
 "nbformat": 4,
 "nbformat_minor": 4
}
